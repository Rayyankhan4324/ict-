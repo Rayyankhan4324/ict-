{
 "cells": [
  {
   "cell_type": "code",
   "execution_count": 10,
   "metadata": {},
   "outputs": [
    {
     "name": "stdout",
     "output_type": "stream",
     "text": [
      "Match is DRAW\n",
      "Thanks!\n"
     ]
    }
   ],
   "source": [
    "#ROCK PAPER SCISSOR GAME\n",
    "choice_1=str(input(\"PLAYER 1 Enter Your Sign in small letters: \"))\n",
    "choice_2=str(input(\"PLAYER 2 Enter Your Sign in small letters: \"))\n",
    "if choice_1 == \"rock\" and choice_2 == \"paper\":\n",
    "    print(\"Player 1(paper) Won\")\n",
    "elif choice_1 == \"paper\" and choice_2 == \"rock\":\n",
    "    print(\"player 2(paper) won\")\n",
    "elif choice_1 == \"paper\" and choice_2 == \"scissor\":\n",
    "    print(\"player 2(scissor) Won\")\n",
    "elif choice_1 == \"scissor\" and choice_2 == \"paper\":\n",
    "    print(\"player 1(scissor) Won\")\n",
    "elif choice_1 == \"scissor\" and choice_2 == \"rock\":\n",
    "    print(\"player 2(rock) Won\")\n",
    "elif choice_1 == \"rock\" and choice_2 == \"scissor\":\n",
    "    print(\"player 1(rock) Won\")\n",
    "elif choice_1 == \"paper\" and choice_2 == \"paper\":\n",
    "    print(\"Match is draw\")\n",
    "elif choice_1 == \"scissor\" and choice_2 == \"scissor\":\n",
    "    print(\"Match is draw\")\n",
    "elif choice_1 == \"rock\" and choice_2 == \"rock\":\n",
    "    print(\"Match is DRAW\")\n",
    "print(\"Thanks!\")"
   ]
  },
  {
   "cell_type": "code",
   "execution_count": 1,
   "metadata": {},
   "outputs": [
    {
     "name": "stdout",
     "output_type": "stream",
     "text": [
      "Match is draw\n",
      "Thanks!\n"
     ]
    }
   ],
   "source": [
    "#ROCK PAPER SCISSOR GAME\n",
    "choice_1=str(input(\" PLAYER 1 Enter Your Sign in small letters: \"))\n",
    "choice_2=str(input(\"PLAYER 2 Enter Your Sign in small letters: \"))\n",
    "if choice_1 == \"rock\" and choice_2 == \"paper\":\n",
    "    print(\"Player 1(paper) Won\")\n",
    "else: \n",
    "    if choice_1 == \"paper\" and choice_2 == \"rock\":\n",
    "        print(\"player 2(paper) won\")\n",
    "    else: \n",
    "        if choice_1 == \"paper\" and choice_2 == \"scissor\":\n",
    "            print(\"player 2(scissor) Won\")\n",
    "        else: \n",
    "            if choice_1 == \"scissor\" and choice_2 == \"paper\":\n",
    "                print(\"player 1(scissor) Won\")\n",
    "            else: \n",
    "                if choice_1 == \"scissor\" and choice_2 == \"rock\":\n",
    "                    print(\"player 2(rock) Won\")\n",
    "                else:\n",
    "                    if choice_1 == \"rock\" and choice_2 == \"scissor\":\n",
    "                        print(\"player 1(rock) Won\")\n",
    "                    else: \n",
    "                        if choice_1 == \"paper\" and choice_2 == \"paper\":\n",
    "                            print(\"Match is draw\")\n",
    "                        else: \n",
    "                            if choice_1 == \"scissor\" and choice_2 == \"scissor\":\n",
    "                                print(\"Match is draw\")\n",
    "                            else: \n",
    "                                if choice_1 == \"rock\" and choice_2 == \"rock\":\n",
    "                                    print(\"Match is DRAW\")\n",
    "print(\"Thanks!\")"
   ]
  },
  {
   "cell_type": "code",
   "execution_count": 1,
   "metadata": {},
   "outputs": [
    {
     "name": "stdout",
     "output_type": "stream",
     "text": [
      "Player 1 (Scissor) wins\n",
      "Thanks for playing!\n"
     ]
    }
   ],
   "source": [
    "#ROCK PAPER SCISSOR GAME\n",
    "choice_1=str(input(\"Enter Your Sign in small letters: \"))\n",
    "choice_2=str(input(\"Enter Your Sign in small letters: \"))\n",
    "if choice_1 == choice_2:\n",
    "    print(\"Match is a draw\")\n",
    "elif (choice_1 == \"rock\" and choice_2 == \"scissor\") or \\\n",
    "     (choice_1 == \"scissor\" and choice_2 == \"paper\") or \\\n",
    "     (choice_1 == \"paper\" and choice_2 == \"rock\"):\n",
    "    print(\"Player 1 ({}) wins\".format(choice_1.capitalize()))\n",
    "elif (choice_2 == \"rock\" and choice_1 == \"scissor\") or \\\n",
    "     (choice_2 == \"scissor\" and choice_1 == \"paper\") or \\\n",
    "     (choice_2 == \"paper\" and choice_1 == \"rock\"):\n",
    "    print(\"Player 2 ({}) wins\".format(choice_2.capitalize()))\n",
    "else:\n",
    "    print(\"Invalid input! Please enter rock, paper, or scissor.\")\n",
    "print(\"Thanks for playing!\")"
   ]
  }
 ],
 "metadata": {
  "kernelspec": {
   "display_name": "Python 3",
   "language": "python",
   "name": "python3"
  },
  "language_info": {
   "codemirror_mode": {
    "name": "ipython",
    "version": 3
   },
   "file_extension": ".py",
   "mimetype": "text/x-python",
   "name": "python",
   "nbconvert_exporter": "python",
   "pygments_lexer": "ipython3",
   "version": "3.12.7"
  }
 },
 "nbformat": 4,
 "nbformat_minor": 2
}
